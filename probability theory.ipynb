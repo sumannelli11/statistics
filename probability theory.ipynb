{
 "cells": [
  {
   "cell_type": "markdown",
   "id": "e476319f",
   "metadata": {},
   "source": [
    "Probability theory is the foundation of statistics. It provides the framework for quantifying the likelihood of events and helps us understand the variability within data. Here's a breakdown of key concepts with examples and how they connect to statistics:"
   ]
  },
  {
   "cell_type": "markdown",
   "id": "d19e515d",
   "metadata": {},
   "source": [
    "Concepts:\n",
    "\n",
    "Sample Space (S): This refers to the collection of all possible outcomes of a random experiment. Imagine flipping a coin, the sample space (S) is {Heads, Tails}.\n",
    "\n",
    "Event (E): This is any subset of the sample space that we're interested in. For example, the event (E) of getting heads is {Heads}.\n",
    "\n",
    "Probability (P(E)): This represents the likelihood of event (E) occurring. It's calculated as the number of favorable outcomes (those in event E) divided by the total number of outcomes in the sample space (S). In the coin example, P(Heads) = 1 (favorable outcome)/2 (total outcomes) = 1/2.\n",
    "\n",
    "Random Variable (X): This assigns a numerical value to each outcome in the sample space. If the outcome is heads, X might be 1, and for tails, it could be 0."
   ]
  },
  {
   "cell_type": "code",
   "execution_count": null,
   "id": "a248db7f",
   "metadata": {},
   "outputs": [],
   "source": []
  }
 ],
 "metadata": {
  "kernelspec": {
   "display_name": "Python 3 (ipykernel)",
   "language": "python",
   "name": "python3"
  },
  "language_info": {
   "codemirror_mode": {
    "name": "ipython",
    "version": 3
   },
   "file_extension": ".py",
   "mimetype": "text/x-python",
   "name": "python",
   "nbconvert_exporter": "python",
   "pygments_lexer": "ipython3",
   "version": "3.7.16"
  }
 },
 "nbformat": 4,
 "nbformat_minor": 5
}
