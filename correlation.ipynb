{
 "cells": [
  {
   "cell_type": "markdown",
   "id": "cc9c4101",
   "metadata": {},
   "source": [
    "### Correlation\n",
    "Correlation is a statistical measure that describes the degree to which two variables change together. In other words, it quantifies the strength and direction of a linear relationship between two variables.\n",
    "\n",
    "Correlation values range from -1 to 1:\n",
    "\n",
    "\n",
    "\n",
    "\n",
    "\n",
    "\n",
    "#### Positive Correlation (r>0): As one variable increases, the other variable also tends to increase.\n",
    "\n",
    "#### Negative Correlation (r<0): As one variable increases, the other variable tends to decrease.\n",
    "\n",
    "#### No Correlation (r=0): There is no linear relationship between the two variables.\n",
    "\n",
    "#### Types of Correlation\n",
    "\n",
    "1. Pearson Correlation Coefficient\n",
    "2. Spearman Rank Correlation\n",
    "3. Kendall Tau Correlation\n"
   ]
  },
  {
   "cell_type": "markdown",
   "id": "638fd4f4",
   "metadata": {},
   "source": [
    "### 1. Pearson Correlation Coefficient\n",
    "The Pearson correlation coefficient measures the linear relationship between two continuous variables. It's denoted by \n",
    "�\n",
    "r and calculated as:\n",
    "    "
   ]
  },
  {
   "cell_type": "markdown",
   "id": "9a2f0cf6",
   "metadata": {},
   "source": [
    "![](correlation_formula.png)"
   ]
  },
  {
   "cell_type": "code",
   "execution_count": 6,
   "id": "aca3d415",
   "metadata": {},
   "outputs": [
    {
     "name": "stdout",
     "output_type": "stream",
     "text": [
      "Pearson Correlation Coefficient: 1.0\n"
     ]
    },
    {
     "data": {
      "image/png": "[encoded data removed]",
      "text/plain": [
       "<Figure size 640x480 with 1 Axes>"
      ]
     },
     "metadata": {},
     "output_type": "display_data"
    }
   ],
   "source": [
    "import numpy as np\n",
    "import matplotlib.pyplot as plt\n",
    "\n",
    "# Sample data\n",
    "hours_studied = [1, 2, 3, 4, 5, 6, 7, 8, 9, 10]\n",
    "exam_scores = [50, 55, 60, 65, 70, 75, 80, 85, 90, 95]\n",
    "\n",
    "# Calculate Pearson correlation coefficient\n",
    "correlation_matrix = np.corrcoef(hours_studied, exam_scores)\n",
    "correlation_coefficient = correlation_matrix[0, 1]\n",
    "\n",
    "print(f\"Pearson Correlation Coefficient: {correlation_coefficient}\")\n",
    "\n",
    "# Plotting\n",
    "plt.scatter(hours_studied, exam_scores)\n",
    "plt.xlabel('Hours Studied')\n",
    "plt.ylabel('Exam Scores')\n",
    "plt.title('Correlation between Hours Studied and Exam Scores')\n",
    "plt.grid(True)\n",
    "plt.show()\n"
   ]
  },
  {
   "cell_type": "markdown",
   "id": "52e28388",
   "metadata": {},
   "source": [
    "#### 2. Spearman Rank Correlation\n",
    "Spearman correlation coefficient measures the monotonic relationship between two variables, whether it's increasing or decreasing, without assuming a linear relationship."
   ]
  },
  {
   "cell_type": "markdown",
   "id": "464a3238",
   "metadata": {},
   "source": [
    "![](spearman.png)"
   ]
  },
  {
   "cell_type": "markdown",
   "id": "03261e0e",
   "metadata": {},
   "source": [
    "\n",
    "The Spearman rank correlation coefficient, often denoted by \n",
    "�\n",
    "ρ (rho), measures the strength and direction of association between two ranked variables. It does not assume a linear relationship between the variables but instead assesses how well the relationship between the variables can be described using a monotonic function.\n",
    "\n",
    "Spearman Rank Correlation Formula\n",
    "The Spearman rank correlation coefficient (\n",
    "�\n",
    "ρ) between two variables \n",
    "�\n",
    "X and \n",
    "�\n",
    "Y is calculated as:\n",
    "\n",
    "�\n",
    "=\n",
    "1\n",
    "−\n",
    "6\n",
    "∑\n",
    "�\n",
    "�\n",
    "2\n",
    "�\n",
    "(\n",
    "�\n",
    "2\n",
    "−\n",
    "1\n",
    ")\n",
    "ρ=1− \n",
    "n(n \n",
    "2\n",
    " −1)\n",
    "6∑d \n",
    "i\n",
    "2\n",
    "​\n",
    " \n",
    "​\n",
    " \n",
    "Where:\n",
    "\n",
    "�\n",
    "�\n",
    "d \n",
    "i\n",
    "​\n",
    "  is the difference between the ranks of corresponding values of \n",
    "�\n",
    "X and \n",
    "�\n",
    "Y.\n",
    "�\n",
    "n is the number of data points.\n",
    "Alternatively, the formula can be expressed as:\n",
    "\n",
    "�\n",
    "=\n",
    "1\n",
    "−\n",
    "6\n",
    "∑\n",
    "(\n",
    "�\n",
    "(\n",
    "�\n",
    "�\n",
    ")\n",
    "−\n",
    "�\n",
    "(\n",
    "�\n",
    "�\n",
    ")\n",
    ")\n",
    "2\n",
    "�\n",
    "(\n",
    "�\n",
    "2\n",
    "−\n",
    "1\n",
    ")\n",
    "ρ=1− \n",
    "n(n \n",
    "2\n",
    " −1)\n",
    "6∑(R(X \n",
    "i\n",
    "​\n",
    " )−R(Y \n",
    "i\n",
    "​\n",
    " )) \n",
    "2\n",
    " \n",
    "​\n",
    " \n",
    "Where:\n",
    "\n",
    "�\n",
    "(\n",
    "�\n",
    "�\n",
    ")\n",
    "R(X \n",
    "i\n",
    "​\n",
    " ) and \n",
    "�\n",
    "(\n",
    "�\n",
    "�\n",
    ")\n",
    "R(Y \n",
    "i\n",
    "​\n",
    " ) are the ranks of \n",
    "�\n",
    "�\n",
    "X \n",
    "i\n",
    "​\n",
    "  and \n",
    "�\n",
    "�\n",
    "Y \n",
    "i\n",
    "​\n",
    "  respectively.\n",
    "Example\n",
    "Let's calculate the Spearman rank correlation coefficient for the following dataset:\n",
    "\n",
    "Variable X (Hours Studied): 1, 2, 3, 4, 5\n",
    "Variable Y (Exam Scores): 50, 55, 60, 65, 70\n",
    "\n",
    "Step 1: Rank the Data\n",
    "First, we rank the data for both variables.\n",
    "\n",
    "Variable X (Hours Studied)\n",
    "1, 2, 3, 4, 5\n",
    "Ranks: 1, 2, 3, 4, 5\n",
    "\n",
    "Variable Y (Exam Scores)\n",
    "50, 55, 60, 65, 70\n",
    "Ranks: 1, 2, 3, 4, 5\n",
    "\n",
    "Step 2: Calculate Differences\n",
    "Next, we calculate the differences between the ranks of corresponding values."
   ]
  },
  {
   "cell_type": "markdown",
   "id": "3a9c65e3",
   "metadata": {},
   "source": [
    "![](spearman_example.png)"
   ]
  },
  {
   "cell_type": "markdown",
   "id": "d881ac03",
   "metadata": {},
   "source": [
    "ρ=1− (6×(0 \n",
    "2\n",
    " +0 \n",
    "2\n",
    " +0 \n",
    "2\n",
    " +0 \n",
    "2\n",
    " +0 \n",
    "2\n",
    " )/5(5 \n",
    "2\n",
    " −1))\n",
    "​\n",
    " \n",
    "ρ=1− (0/120)\n",
    "​\n",
    " \n",
    "ρ=1"
   ]
  },
  {
   "cell_type": "code",
   "execution_count": null,
   "id": "4fd47a6a",
   "metadata": {},
   "outputs": [],
   "source": [
    "Example:\n",
    "Suppose we want to find the correlation between the ranking of students based on hours studied and their exam scores."
   ]
  },
  {
   "cell_type": "code",
   "execution_count": 2,
   "id": "88314683",
   "metadata": {},
   "outputs": [
    {
     "name": "stdout",
     "output_type": "stream",
     "text": [
      "Spearman Rank Correlation: 0.9999999999999999\n"
     ]
    }
   ],
   "source": [
    "from scipy.stats import spearmanr\n",
    "\n",
    "# Calculate Spearman correlation coefficient\n",
    "spearman_corr, _ = spearmanr(hours_studied, exam_scores)\n",
    "\n",
    "print(f\"Spearman Rank Correlation: {spearman_corr}\")\n"
   ]
  },
  {
   "cell_type": "markdown",
   "id": "1a4e716d",
   "metadata": {},
   "source": [
    "Kendall's Tau Correlation, often shortened to Kendall's tau (τ), is a non-parametric statistic used to measure the ordinal association between two variables. In simpler terms, it tells you how similar the rankings of data points are between two variables.\n",
    "\n",
    "Here's a breakdown of Kendall's tau:\n",
    "\n",
    "Non-parametric: It doesn't assume any specific underlying distribution for the data (unlike Pearson's correlation which assumes normality).\n",
    "Ordinal association: It focuses on the order (ranks) of the data points, not their actual values. So, it works well when you only have data on a ranked scale (like customer satisfaction ratings from 1 to 5)."
   ]
  },
  {
   "cell_type": "code",
   "execution_count": 4,
   "id": "5ad3900b",
   "metadata": {},
   "outputs": [
    {
     "name": "stdout",
     "output_type": "stream",
     "text": [
      "Kendall Tau Correlation: 0.9999999999999999\n"
     ]
    }
   ],
   "source": [
    "from scipy.stats import kendalltau\n",
    "\n",
    "# Calculate Kendall Tau correlation coefficient\n",
    "kendall_corr, _ = kendalltau(hours_studied, exam_scores)\n",
    "\n",
    "print(f\"Kendall Tau Correlation: {kendall_corr}\")\n"
   ]
  },
  {
   "cell_type": "markdown",
   "id": "822b102f",
   "metadata": {},
   "source": [
    "Variable X (Hours Studied): 1, 2, 3, 4, 5\n",
    "\n",
    "Variable Y (Exam Scores): 50, 55, 60, 65, 70\n",
    "\n",
    "Step 1: Rank the Data\n",
    "\n",
    "First, we rank the data for both variables.\n",
    "\n",
    "Variable X (Hours Studied)\n",
    "1, 2, 3, 4, 5\n",
    "Ranks: 1, 2, 3, 4, 5\n",
    "\n",
    "Variable Y (Exam Scores)\n",
    "50, 55, 60, 65, 70\n",
    "Ranks: 1, 2, 3, 4, 5"
   ]
  },
  {
   "cell_type": "markdown",
   "id": "5f0348fa",
   "metadata": {},
   "source": [
    "Step 2: Identify Concordant and Discordant Pairs\n",
    "\n",
    "Concordant Pairs: (1,50), (2,55), (3,60), (4,65), (5,70)\n",
    "\n",
    "Discordant Pairs: None"
   ]
  },
  {
   "attachments": {
    "image.png": {
     "image/png": "[encoded data removed]"
    }
   },
   "cell_type": "markdown",
   "id": "bbeaccda",
   "metadata": {},
   "source": [
    "![image.png](attachment:image.png)"
   ]
  },
  {
   "cell_type": "markdown",
   "id": "b0133528",
   "metadata": {},
   "source": [
    "### summary\n",
    "\n",
    "Pearson Correlation: Measures linear relationship between continuous variables.\n",
    "\n",
    "Spearman Rank Correlation: Measures monotonic relationship between variables.\n",
    "\n",
    "Kendall Tau Correlation: Measures ordinal association between variables."
   ]
  },
  {
   "cell_type": "code",
   "execution_count": null,
   "id": "a9ef06f0",
   "metadata": {},
   "outputs": [],
   "source": []
  }
 ],
 "metadata": {
  "kernelspec": {
   "display_name": "Python 3 (ipykernel)",
   "language": "python",
   "name": "python3"
  },
  "language_info": {
   "codemirror_mode": {
    "name": "ipython",
    "version": 3
   },
   "file_extension": ".py",
   "mimetype": "text/x-python",
   "name": "python",
   "nbconvert_exporter": "python",
   "pygments_lexer": "ipython3",
   "version": "3.7.16"
  }
 },
 "nbformat": 4,
 "nbformat_minor": 5
}
