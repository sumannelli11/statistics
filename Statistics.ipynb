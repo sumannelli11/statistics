{
 "cells": [
  {
   "cell_type": "markdown",
   "id": "7332f98d",
   "metadata": {},
   "source": [
    "## DS life cycle"
   ]
  },
  {
   "cell_type": "markdown",
   "id": "69454429",
   "metadata": {},
   "source": [
    "![DS cycle](Cycle-2.jpg)"
   ]
  },
  {
   "cell_type": "markdown",
   "id": "1f01d9fd",
   "metadata": {},
   "source": [
    "1. Business requirement: from client we will take the requirements\n",
    "2. Data collection: collect the data from internet(web scrap). selenium, beautiful soup.\n"
   ]
  },
  {
   "cell_type": "markdown",
   "id": "d3b70342",
   "metadata": {},
   "source": [
    "Statistics is the field of study concerned with the collection, organization, analysis, interpretation, and presentation of data. It equips you with the tools to not only understand data but also draw meaningful conclusions from it."
   ]
  },
  {
   "cell_type": "markdown",
   "id": "be2b3e8f",
   "metadata": {},
   "source": [
    "## Role of Statistics in Data Science\n",
    "Data science is a field that extracts knowledge and insights from data. Statistics plays a fundamental role in this process by providing the methods to:\n",
    "\n",
    "# Summarize data:\n",
    "Statistics helps us condense large datasets into understandable summaries, allowing us to identify patterns and trends.\n",
    "# Draw conclusions: \n",
    "Statistical methods allow us to make inferences about a larger population based on a smaller sample of data.\n",
    "# Make predictions: \n",
    "Statistical models can be used to predict future outcomes based on historical data and identified trends.\n",
    "# Test hypotheses: \n",
    "We can use statistical tests to evaluate the validity of claims or relationships within the data.\n",
    "Simply put, statistics provides the foundation for data science by enabling us to effectively analyze and interpret data, ultimately turning it into actionable knowledge."
   ]
  },
  {
   "cell_type": "markdown",
   "id": "561cd0b6",
   "metadata": {},
   "source": [
    "# data types"
   ]
  },
  {
   "cell_type": "markdown",
   "id": "eacc773b",
   "metadata": {},
   "source": [
    "Certainly! Understanding the types of data is fundamental in statistics. Data can be broadly categorized into two main types: qualitative (categorical) and quantitative. Here's a detailed explanation of each type:\n",
    "\n",
    "### 1. Qualitative Data (Categorical Data)\n",
    "Qualitative data, also known as categorical data, describe qualities or characteristics and can be categorized based on attributes or labels. Qualitative data are not numerical and cannot be measured with numbers. Instead, they are often represented by labels or categories.\n",
    "\n",
    "Examples of Qualitative Data:\n",
    "\n",
    "#### Nominal Data: \n",
    "Data that can be categorized but not ranked or ordered.\n",
    "Examples: Gender (Male, Female), Eye Color (Blue, Brown, Green), Marital Status (Single, Married, Divorced)\n",
    "#### Ordinal Data:\n",
    "Data that can be categorized and ranked or ordered, but the intervals between the categories may not be consistent.\n",
    "Examples: Educational Level (High School, Bachelor's, Master's, PhD), Economic Status (Low, Medium, High), Customer Satisfaction (Low, Medium, High)\n",
    "Characteristics of Qualitative Data:\n",
    "\n",
    "Non-numeric\n",
    "Categorical or descriptive\n",
    "Often represented using labels, names, or categories\n",
    "Cannot be subjected to mathematical operations like addition or subtraction\n",
    "### 2. Quantitative Data\n",
    "Quantitative data are numerical and can be measured or counted. They represent quantities or amounts and can be further classified into discrete or continuous data.\n",
    "\n",
    "#### Examples of Quantitative Data:\n",
    "\n",
    "#### Discrete Data:\n",
    "Data that can take on a finite or countable number of values.\n",
    "Examples: Number of children in a family (0, 1, 2, ...), Number of cars in a parking lot (0, 1, 2, ...), Number of students in a class (20, 30, 40, ...)\n",
    "#### Continuous Data:\n",
    "Data that can take on an infinite number of values within a given range.\n",
    "Examples: Height of individuals (e.g., 165.2 cm, 170.5 cm, ...), Weight of products (e.g., 2.5 kg, 3.0 kg, ...), Time taken to complete a task (e.g., 10.5 seconds, 11.2 seconds, ...)\n",
    "#### Characteristics of Quantitative Data:\n",
    "\n",
    "Numeric\n",
    "Can be measured or counted\n",
    "Subjected to mathematical operations like addition, subtraction, multiplication, and division\n",
    "Can be further classified as discrete or continuous\n",
    "Summary:\n",
    "Qualitative Data: Describes qualities or characteristics; can be nominal (categories without order) or ordinal (categories with order).\n",
    "\n",
    "Quantitative Data: Describes quantities or amounts; can be discrete (finite or countable values) or continuous (infinite values within a range).\n",
    "\n",
    "Understanding the type of data you are working with is crucial as it determines the appropriate statistical methods and techniques to use for analysis."
   ]
  },
  {
   "cell_type": "markdown",
   "id": "6ae970d0",
   "metadata": {},
   "source": [
    "### Levels of measurement:\n",
    "Levels of measurement also known as scales of measurement, classify data into different categories based on the nature and characteristics of the data. Understanding these levels is essential as they determine the types of statistical analyses that can be performed on the data. Here's an overview of the four levels of measurement: nominal, ordinal, interval, and ratio.\n",
    "\n",
    "#### 1. Nominal Scale\n",
    "Description:\n",
    "Nominal scale is the simplest level of measurement that categorizes data without imposing any order or numerical structure on the categories.\n",
    "\n",
    "Characteristics:\n",
    "\n",
    "Categories are mutually exclusive.\n",
    "No meaningful order or ranking among the categories.\n",
    "Only qualitative data are used.\n",
    "Examples:\n",
    "\n",
    "Gender (Male, Female)\n",
    "Eye Color (Blue, Brown, Green)\n",
    "Marital Status (Single, Married, Divorced)\n",
    "#### 2. Ordinal Scale\n",
    "Description:\n",
    "Ordinal scale categorizes data into distinct categories with a meaningful order or ranking but does not have a consistent interval between the categories.\n",
    "\n",
    "Characteristics:\n",
    "\n",
    "Categories have a meaningful order or ranking.\n",
    "Differences between categories may not be consistent or measurable.\n",
    "Both qualitative and quantitative data can be used.\n",
    "Examples:\n",
    "\n",
    "Educational Level (High School, Bachelor's, Master's, PhD)\n",
    "Economic Status (Low, Medium, High)\n",
    "Customer Satisfaction (Low, Medium, High)\n",
    "#### 3. Interval Scale\n",
    "Description:\n",
    "Interval scale measures data with a consistent interval between the categories but does not have a true zero point.\n",
    "\n",
    "Characteristics:\n",
    "\n",
    "Has a consistent and measurable interval between categories.\n",
    "No true zero point; zero does not indicate the absence of the attribute.\n",
    "Only quantitative data are used.\n",
    "Examples:\n",
    "\n",
    "Temperature in Celsius or Fahrenheit (e.g., 0°C, 10°C, 20°C, ...)\n",
    "IQ scores (e.g., 100, 110, 120, ...)\n",
    "Year or Time (e.g., 2000, 2001, 2002, ...)\n",
    "#### 4. Ratio Scale\n",
    "Description:\n",
    "Ratio scale is the highest level of measurement that has a consistent interval between categories and a true zero point, allowing for meaningful ratios between the categories.\n",
    "\n",
    "Characteristics:\n",
    "\n",
    "Has a consistent and measurable interval between categories.\n",
    "Has a true zero point; zero indicates the absence of the attribute.\n",
    "Only quantitative data are used.\n",
    "Examples:\n",
    "\n",
    "Height (e.g., 150 cm, 160 cm, 170 cm, ...)\n",
    "Weight (e.g., 50 kg, 60 kg, 70 kg, ...)\n",
    "Age (e.g., 20 years, 30 years, 40 years, ...)\n",
    "Summary:\n",
    "Nominal Scale: Categories without order or numerical structure; qualitative data.\n",
    "\n",
    "Ordinal Scale: Categories with a meaningful order or ranking; qualitative or quantitative data.\n",
    "\n",
    "Interval Scale: Categories with a consistent interval but no true zero; quantitative data.\n",
    "\n",
    "Ratio Scale: Categories with a consistent interval and a true zero; quantitative data.\n",
    "\n",
    "Understanding the level of measurement of your data is crucial for selecting the appropriate statistical methods and techniques for data analysis. Each level of measurement has its own set of statistical operations that are applicable and meaningful.\n",
    "\n",
    "\n",
    "\n",
    "\n",
    "\n",
    "\n"
   ]
  },
  {
   "cell_type": "code",
   "execution_count": null,
   "id": "bfddc3f2",
   "metadata": {},
   "outputs": [],
   "source": []
  }
 ],
 "metadata": {
  "kernelspec": {
   "display_name": "Python 3 (ipykernel)",
   "language": "python",
   "name": "python3"
  },
  "language_info": {
   "codemirror_mode": {
    "name": "ipython",
    "version": 3
   },
   "file_extension": ".py",
   "mimetype": "text/x-python",
   "name": "python",
   "nbconvert_exporter": "python",
   "pygments_lexer": "ipython3",
   "version": "3.7.16"
  }
 },
 "nbformat": 4,
 "nbformat_minor": 5
}
