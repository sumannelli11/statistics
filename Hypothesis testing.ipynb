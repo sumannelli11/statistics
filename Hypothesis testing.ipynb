{
 "cells": [
  {
   "cell_type": "markdown",
   "id": "e470003e",
   "metadata": {},
   "source": [
    "Hypothesis testing is a statistical method that uses sample data to make inferences or decisions about population parameters. It is a systematic procedure for evaluating claims or hypotheses about a population parameter based on sample data. The process involves making an initial assumption, known as the null hypothesis (\\(H_0\\)), and testing this assumption against an alternative hypothesis (\\(H_a\\) or \\(H_1\\)) using statistical methods.\n",
    "\n",
    "### Key Components of Hypothesis Testing:\n",
    "\n",
    "1. **Null Hypothesis (\\(H_0\\))**:\n",
    "    - The null hypothesis represents the default assumption or status quo.\n",
    "    - It often states that there is no effect, no difference, or no association between variables.\n",
    "    - Example: \\(H_0: \\mu = \\mu_0\\) (Null hypothesis that the population mean is equal to a specified value \\( \\mu_0 \\)).\n",
    "\n",
    "2. **Alternative Hypothesis (\\(H_a\\) or \\(H_1\\))**:\n",
    "    - The alternative hypothesis represents what we want to prove or find evidence for.\n",
    "    - It can be one-sided (e.g., \\(H_a: \\mu > \\mu_0\\), \\(H_a: \\mu < \\mu_0\\)) or two-sided (e.g., \\(H_a: \\mu \\neq \\mu_0\\)).\n",
    "\n",
    "3. **Test Statistic**:\n",
    "    - A test statistic is a numerical value calculated from sample data.\n",
    "    - It quantifies the difference between the observed data and what would be expected under the null hypothesis.\n",
    "\n",
    "4. **P-value**:\n",
    "    - The p-value is the probability of observing a test statistic as extreme as, or more extreme than, the one calculated from the sample data, assuming that the null hypothesis is true.\n",
    "    - A smaller p-value indicates stronger evidence against the null hypothesis.\n",
    "\n",
    "5. **Decision Rule**:\n",
    "    - Based on the p-value and a predetermined significance level (\\(\\alpha\\)), a decision is made to either reject the null hypothesis or fail to reject it.\n",
    "    - Common significance levels are 0.05, 0.01, and 0.10.\n",
    "\n",
    "6. **Conclusion**:\n",
    "    - Based on the decision rule, a conclusion is drawn regarding the null hypothesis.\n",
    "    - If the p-value is less than the significance level (\\(\\alpha\\)), the null hypothesis is rejected in favor of the alternative hypothesis.\n",
    "    - If the p-value is greater than or equal to the significance level (\\(\\alpha\\)), the null hypothesis is not rejected.\n",
    "\n",
    "### Steps in Hypothesis Testing:\n",
    "\n",
    "1. **State the Null Hypothesis (\\(H_0\\)) and Alternative Hypothesis (\\(H_a\\) or \\(H_1\\))**.\n",
    "2. **Choose the Significance Level (\\(\\alpha\\))**.\n",
    "3. **Select the Test Statistic** (e.g., z-test, t-test, chi-square test).\n",
    "4. **Calculate the Test Statistic** from the sample data.\n",
    "5. **Calculate the P-value** associated with the test statistic.\n",
    "6. **Make a Decision** based on the P-value and Significance Level.\n",
    "7. **Draw a Conclusion** regarding the Null Hypothesis.\n",
    "\n",
    "### Applications of Hypothesis Testing:\n",
    "\n",
    "1. **Medical Research**: Testing the effectiveness of a new treatment compared to a standard treatment.\n",
    "2. **Quality Control**: Testing the quality of manufactured products to ensure they meet specifications.\n",
    "3. **Market Research**: Testing hypotheses about consumer preferences or behavior.\n",
    "4. **Environmental Science**: Testing hypotheses about the impact of pollutants on ecosystems.\n",
    "5. **Business Analytics**: Testing hypotheses about sales trends, customer behavior, or marketing strategies.\n",
    "\n",
    "### Conclusion:\n",
    "\n",
    "Hypothesis testing is a fundamental method in statistics that provides a structured framework for making decisions and drawing conclusions based on sample data. It allows researchers, analysts, and decision-makers to evaluate claims, test theories, and make informed decisions in various fields by assessing the evidence against a null hypothesis. Understanding the principles, components, and applications of hypothesis testing is essential for conducting meaningful statistical analyses and interpreting the results correctly."
   ]
  },
  {
   "cell_type": "code",
   "execution_count": 3,
   "id": "f5d539ec",
   "metadata": {},
   "outputs": [
    {
     "data": {
      "text/plain": [
       "'C:\\\\Users\\\\suman\\\\Downloads\\\\DS\\\\numpy\\\\statistics'"
      ]
     },
     "execution_count": 3,
     "metadata": {},
     "output_type": "execute_result"
    }
   ],
   "source": [
    "%pwd"
   ]
  },
  {
   "cell_type": "code",
   "execution_count": 1,
   "id": "6202c167",
   "metadata": {},
   "outputs": [],
   "source": [
    "import numpy as np\n",
    "\n",
    "# Exam scores for Group A and Group B\n",
    "group_a_scores = np.array([85, 88, 84, 91, 76, 83, 89, 85, 90, 78, \n",
    "                           87, 82, 80, 86, 88, 85, 92, 81, 85, 89, \n",
    "                           79, 83, 87, 90, 88, 82, 84, 86, 88, 81])\n",
    "\n",
    "group_b_scores = np.array([78, 80, 76, 85, 72, 79, 81, 77, 84, 73, \n",
    "                           82, 75, 71, 80, 78, 82, 86, 75, 79, 81, \n",
    "                           74, 76, 80, 85, 78, 77, 81, 79, 83, 76])\n"
   ]
  },
  {
   "cell_type": "code",
   "execution_count": 2,
   "id": "6e66bee5",
   "metadata": {},
   "outputs": [
    {
     "name": "stdout",
     "output_type": "stream",
     "text": [
      "t-statistic: 6.18987035012551\n",
      "p-value: 6.614744644383411e-08\n"
     ]
    }
   ],
   "source": [
    "from scipy import stats\n",
    "\n",
    "# Perform independent t-test\n",
    "t_stat, p_value = stats.ttest_ind(group_a_scores, group_b_scores)\n",
    "\n",
    "print(f\"t-statistic: {t_stat}\")\n",
    "print(f\"p-value: {p_value}\")\n"
   ]
  },
  {
   "cell_type": "code",
   "execution_count": null,
   "id": "0bab70a3",
   "metadata": {},
   "outputs": [],
   "source": []
  }
 ],
 "metadata": {
  "kernelspec": {
   "display_name": "Python 3 (ipykernel)",
   "language": "python",
   "name": "python3"
  },
  "language_info": {
   "codemirror_mode": {
    "name": "ipython",
    "version": 3
   },
   "file_extension": ".py",
   "mimetype": "text/x-python",
   "name": "python",
   "nbconvert_exporter": "python",
   "pygments_lexer": "ipython3",
   "version": "3.7.16"
  }
 },
 "nbformat": 4,
 "nbformat_minor": 5
}
